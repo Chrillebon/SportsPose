{
 "cells": [
  {
   "cell_type": "code",
   "execution_count": null,
   "metadata": {},
   "outputs": [],
   "source": [
    "\n",
    "\n",
    "\n",
    "\n"
   ]
  },
  {
   "cell_type": "code",
   "execution_count": null,
   "metadata": {},
   "outputs": [],
   "source": [
    "from sportspose.dataset import SportsPoseDataset\n",
    "import matplotlib.pyplot as plt\n",
    "\n",
    "jointspath = \"/home/docker/data/sportspose\"\n",
    "dataset = SportsPoseDataset(\n",
    "    data_dir=jointspath,\n",
    "    sample_level=\"frame\",\n",
    ")\n",
    "\n",
    "sample = dataset[0]\n",
    "frameFO = sample[\"video\"][\"image\"][\"FO\"][0]\n",
    "jointsFO = sample[\"joints_2d\"][\"FO\"][0]\n",
    "\n",
    "plt.figure()\n",
    "plt.imshow(frameFO)\n",
    "plt.scatter(jointsFO[:, 0], jointsFO[:, 1])\n",
    "plt.show(block=True)"
   ]
  }
 ],
 "metadata": {
  "kernelspec": {
   "display_name": "Python 3 (ipykernel)",
   "language": "python",
   "name": "python3"
  },
  "language_info": {
   "codemirror_mode": {
    "name": "ipython",
    "version": 3
   },
   "file_extension": ".py",
   "mimetype": "text/x-python",
   "name": "python",
   "nbconvert_exporter": "python",
   "pygments_lexer": "ipython3",
   "version": "3.10.5"
  }
 },
 "nbformat": 4,
 "nbformat_minor": 2
}
