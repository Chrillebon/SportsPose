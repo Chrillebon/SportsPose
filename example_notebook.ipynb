{
 "cells": [
  {
   "cell_type": "code",
   "execution_count": null,
   "metadata": {},
   "outputs": [],
   "source": [
    "# imports\n",
    "\n",
    "import torch\n",
    "import matplotlib.pyplot as plt\n",
    "from sportspose.dataset import SportsPoseDataset\n",
    "from sportspose.plot_skeleton_3d import plot_skeleton_3d"
   ]
  },
  {
   "cell_type": "code",
   "execution_count": null,
   "metadata": {},
   "outputs": [],
   "source": [
    "### Update path to path where data is downloaded ###\n",
    "datapath = \"data/SportsPose\""
   ]
  },
  {
   "cell_type": "code",
   "execution_count": null,
   "metadata": {},
   "outputs": [],
   "source": [
    "# loading datasets\n",
    "dataset_pervideo = SportsPoseDataset(\n",
    "    data_dir=datapath,\n",
    "    sample_level=\"video\",\n",
    ")\n",
    "dataset_perframe = SportsPoseDataset(\n",
    "    data_dir=datapath,\n",
    "    sample_level=\"frame\",\n",
    ")\n",
    "\n",
    "print(f\"{len(dataset_pervideo)} videos were found for a total of {len(dataset_perframe)} frames!\")"
   ]
  },
  {
   "cell_type": "code",
   "execution_count": null,
   "metadata": {},
   "outputs": [],
   "source": [
    "# loading example from dataset\n",
    "sample = dataset_perframe[300]\n",
    "\n",
    "# load frame\n",
    "frameRight = sample[\"video\"][\"image\"][\"right\"][0]\n",
    "# load 2D reprojection to \"right\" view\n",
    "jointsRight = sample[\"joints_2d\"][\"right\"][0]\n",
    "# load 3D joints\n",
    "joints3D = sample[\"joints_3d\"][\"data_points\"][0]"
   ]
  },
  {
   "cell_type": "code",
   "execution_count": null,
   "metadata": {},
   "outputs": [],
   "source": [
    "# plotting both 3d view and 2d reprojection\n",
    "f = plt.figure(figsize=(10,5))\n",
    "ax2d = f.add_subplot(1,2,1)\n",
    "ax3d = f.add_subplot(1,2,2,projection=\"3d\")\n",
    "ax2d.imshow(frameRight)\n",
    "ax2d.scatter(jointsRight[:, 0], jointsRight[:, 1])\n",
    "ax2d.axis('off')\n",
    "plot_skeleton_3d(joints3D, ax=ax3d)\n",
    "plt.tight_layout()\n",
    "plt.show()"
   ]
  },
  {
   "cell_type": "code",
   "execution_count": null,
   "metadata": {},
   "outputs": [],
   "source": [
    "# Example of picking sequences based off requirements\n",
    "dataset_outdoors = SportsPoseDataset(\n",
    "    data_dir=datapath,\n",
    "    sample_level=\"video\",\n",
    "    whitelist={\n",
    "        \"metadata\": \n",
    "            {\"tag\":\"outdoors\",\n",
    "             \"person_id\": \"S22\",\n",
    "             \"activity\": \"jump\"},\n",
    "    }\n",
    ")\n",
    "dataloader = torch.utils.data.DataLoader(dataset_outdoors)  "
   ]
  },
  {
   "cell_type": "code",
   "execution_count": null,
   "metadata": {},
   "outputs": [],
   "source": [
    "# Show all frames from this whitelist\n",
    "fig, axs = plt.subplots(1, len(dataloader), figsize=(5*len(dataloader), 5))\n",
    "for i, sample in enumerate(dataloader):\n",
    "    frame = sample[\"video\"][\"image\"][\"right\"][0,0]\n",
    "    axs[i].imshow(frame)\n",
    "    axs[i].axis('off')\n",
    "\n",
    "plt.show()  "
   ]
  }
 ],
 "metadata": {
  "kernelspec": {
   "display_name": "Python 3 (ipykernel)",
   "language": "python",
   "name": "python3"
  },
  "language_info": {
   "codemirror_mode": {
    "name": "ipython",
    "version": 3
   },
   "file_extension": ".py",
   "mimetype": "text/x-python",
   "name": "python",
   "nbconvert_exporter": "python",
   "pygments_lexer": "ipython3",
   "version": "3.9.16"
  }
 },
 "nbformat": 4,
 "nbformat_minor": 2
}
