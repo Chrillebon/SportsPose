{
 "cells": [
  {
   "cell_type": "code",
   "execution_count": null,
   "metadata": {},
   "outputs": [],
   "source": [
    "from sportspose.dataset import SportsPoseDataset\n",
    "import matplotlib.pyplot as plt\n",
    "\n",
    "jointspath = r\"D:\\SportsPose\"\n",
    "dataset = SportsPoseDataset(\n",
    "    data_dir=jointspath,\n",
    "    sample_level=\"frame\",\n",
    ")\n",
    "\n",
    "sample = dataset[0]\n",
    "frameFO = sample[\"video\"][\"image\"][\"FO\"][0]\n",
    "jointsFO = sample[\"joints_2d\"][\"FO\"][0]\n",
    "\n",
    "plt.figure()\n",
    "plt.imshow(frameFO)\n",
    "plt.scatter(jointsFO[:, 0], jointsFO[:, 1])\n",
    "plt.show(block=True)"
   ]
  }
 ],
 "metadata": {
  "language_info": {
   "name": "python"
  },
  "orig_nbformat": 4
 },
 "nbformat": 4,
 "nbformat_minor": 2
}
